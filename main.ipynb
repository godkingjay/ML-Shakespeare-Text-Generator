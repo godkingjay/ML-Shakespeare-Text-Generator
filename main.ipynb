{
 "cells": [
  {
   "cell_type": "code",
   "execution_count": 41,
   "metadata": {},
   "outputs": [],
   "source": [
    "import random\n",
    "import numpy as np\n",
    "import tensorflow as tf\n",
    "from tensorflow.keras.models import Sequential\n",
    "from tensorflow.keras.layers import LSTM, Dense, Activation\n",
    "from tensorflow.keras.optimizers import RMSprop"
   ]
  },
  {
   "cell_type": "code",
   "execution_count": 42,
   "metadata": {},
   "outputs": [],
   "source": [
    "filepath = tf.keras.utils.get_file('shakespeare.txt', './data/shakespeare.txt')"
   ]
  },
  {
   "cell_type": "code",
   "execution_count": 43,
   "metadata": {},
   "outputs": [],
   "source": [
    "text = open(filepath, 'rb').read().decode(encoding='utf-8').lower()"
   ]
  },
  {
   "cell_type": "code",
   "execution_count": 44,
   "metadata": {},
   "outputs": [],
   "source": [
    "text = text[100000:1000000]"
   ]
  },
  {
   "cell_type": "code",
   "execution_count": 45,
   "metadata": {},
   "outputs": [],
   "source": [
    "characters = sorted(set(text))"
   ]
  },
  {
   "cell_type": "code",
   "execution_count": 46,
   "metadata": {},
   "outputs": [],
   "source": [
    "char_to_index = dict((c, i) for i, c in enumerate(characters))\n",
    "index_to_char = dict((i, c) for i, c in enumerate(characters))"
   ]
  },
  {
   "cell_type": "code",
   "execution_count": 97,
   "metadata": {},
   "outputs": [],
   "source": [
    "SEQ_LENGTH = 40\n",
    "STEP_SIZE = 3"
   ]
  },
  {
   "cell_type": "code",
   "execution_count": 98,
   "metadata": {},
   "outputs": [],
   "source": [
    "sentences = []\n",
    "next_characters = []"
   ]
  },
  {
   "cell_type": "code",
   "execution_count": 99,
   "metadata": {},
   "outputs": [],
   "source": [
    "for i in range(0, len(text) - SEQ_LENGTH, STEP_SIZE):\n",
    "  sentences.append(text[i: i + SEQ_LENGTH])\n",
    "  next_characters.append(text[i + SEQ_LENGTH])"
   ]
  },
  {
   "cell_type": "code",
   "execution_count": 100,
   "metadata": {},
   "outputs": [],
   "source": [
    "X = np.zeros((len(sentences), SEQ_LENGTH, len(characters)), dtype=np.bool_)\n",
    "Y = np.zeros((len(sentences), len(characters)), dtype=np.bool_)"
   ]
  },
  {
   "cell_type": "code",
   "execution_count": 101,
   "metadata": {},
   "outputs": [],
   "source": [
    "for i, sentence in enumerate(sentences):\n",
    "  for t, character in enumerate(sentence):\n",
    "    X[i, t, char_to_index[character]] = 1\n",
    "  Y[i, char_to_index[next_characters[i]]] = 1"
   ]
  },
  {
   "cell_type": "code",
   "execution_count": 106,
   "metadata": {},
   "outputs": [
    {
     "name": "stdout",
     "output_type": "stream",
     "text": [
      "Epoch 1/10\n",
      "1172/1172 [==============================] - 74s 62ms/step - loss: 1.9404\n",
      "Epoch 2/10\n",
      "1172/1172 [==============================] - 73s 62ms/step - loss: 1.5849\n",
      "Epoch 3/10\n",
      "1172/1172 [==============================] - 73s 62ms/step - loss: 1.5010\n",
      "Epoch 4/10\n",
      "1172/1172 [==============================] - 73s 62ms/step - loss: 1.4564\n",
      "Epoch 5/10\n",
      "1172/1172 [==============================] - 80s 68ms/step - loss: 1.4289\n",
      "Epoch 6/10\n",
      "1172/1172 [==============================] - 74s 63ms/step - loss: 1.4067\n",
      "Epoch 7/10\n",
      "1172/1172 [==============================] - 74s 63ms/step - loss: 1.3906\n",
      "Epoch 8/10\n",
      "1172/1172 [==============================] - 74s 63ms/step - loss: 1.3782\n",
      "Epoch 9/10\n",
      "1172/1172 [==============================] - 74s 63ms/step - loss: 1.3680\n",
      "Epoch 10/10\n",
      "1172/1172 [==============================] - 74s 63ms/step - loss: 1.3577\n"
     ]
    },
    {
     "data": {
      "text/plain": [
       "<keras.callbacks.History at 0x1d6274a7ca0>"
      ]
     },
     "execution_count": 106,
     "metadata": {},
     "output_type": "execute_result"
    }
   ],
   "source": [
    "model = Sequential()\n",
    "model.add(LSTM(128, input_shape=(SEQ_LENGTH, len(characters))))\n",
    "model.add(Dense(len(characters)))\n",
    "model.add(Activation('softmax'))\n",
    "\n",
    "model.compile(loss='categorical_crossentropy', optimizer=RMSprop(learning_rate=0.01))\n",
    "csv_logger = tf.keras.callbacks.CSVLogger('./training_log/log.csv', separator=',', append=True)\n",
    "\n",
    "model.fit(X, Y, batch_size=256, epochs=10, callbacks=[csv_logger])"
   ]
  },
  {
   "cell_type": "code",
   "execution_count": 107,
   "metadata": {},
   "outputs": [
    {
     "name": "stderr",
     "output_type": "stream",
     "text": [
      "WARNING:absl:Found untraced functions such as lstm_cell_14_layer_call_fn, lstm_cell_14_layer_call_and_return_conditional_losses while saving (showing 2 of 2). These functions will not be directly callable after loading.\n"
     ]
    },
    {
     "name": "stdout",
     "output_type": "stream",
     "text": [
      "INFO:tensorflow:Assets written to: textgenerator.model\\assets\n"
     ]
    },
    {
     "name": "stderr",
     "output_type": "stream",
     "text": [
      "INFO:tensorflow:Assets written to: textgenerator.model\\assets\n"
     ]
    }
   ],
   "source": [
    "model.save('textgenerator.model')"
   ]
  },
  {
   "cell_type": "code",
   "execution_count": 108,
   "metadata": {},
   "outputs": [],
   "source": [
    "model = tf.keras.models.load_model('textgenerator.model')"
   ]
  },
  {
   "cell_type": "code",
   "execution_count": 109,
   "metadata": {},
   "outputs": [],
   "source": [
    "def sample(preds, temperature=1.0):\n",
    "  preds = np.asarray(preds).astype('float64')\n",
    "  preds = np.log(preds)/temperature\n",
    "  exp_preds = np.exp(preds)\n",
    "  preds = exp_preds / np.sum(exp_preds)\n",
    "  probas = np.random.multinomial(1, preds, 1)\n",
    "  return np.argmax(probas)"
   ]
  },
  {
   "cell_type": "code",
   "execution_count": 110,
   "metadata": {},
   "outputs": [],
   "source": [
    "def generate_text(length, temperature):\n",
    "  start_index = random.randint(0, len(text) - SEQ_LENGTH - 1)\n",
    "  generated = ''\n",
    "  sentence = text[start_index: start_index + SEQ_LENGTH]\n",
    "  generated += sentence\n",
    "  for i in range(length):\n",
    "    A = np.zeros((1, SEQ_LENGTH, len(characters)))\n",
    "    for t, character in enumerate(sentence):\n",
    "      A[0, t, char_to_index[character]] = 1\n",
    "    \n",
    "    predictions = model.predict(A, verbose=0)[0]\n",
    "    next_index = sample(predictions, temperature)\n",
    "    next_character = index_to_char[next_index]\n",
    "\n",
    "    generated += next_character\n",
    "    sentence = sentence[1:] + next_character\n",
    "  \n",
    "  return generated"
   ]
  },
  {
   "cell_type": "code",
   "execution_count": 111,
   "metadata": {},
   "outputs": [
    {
     "name": "stdout",
     "output_type": "stream",
     "text": [
      "-----------------------------0.2-------------------------------\n",
      "ruth\n",
      "to god, my king and my succeeding in the son.\n",
      "\n",
      "king henry vi:\n",
      "what shall be the state of the state, the sea\n",
      "the death and the service of the sun the state,\n",
      "to see the state and bear the sun the state,\n",
      "and shall be the sun the state to hear thee,\n",
      "and the state here and the son and the heart,\n",
      "and i will be the state and the perion.\n",
      "\n",
      "ki\n",
      "-----------------------------0.4-------------------------------\n",
      "\n",
      "\n",
      "john of gaunt:\n",
      "will the king come, that the very wall the heaven\n",
      "and the court is thy brother and the cause and pity,\n",
      "which could was the since i will prove thee,\n",
      "and let the king and sign to hear thee was\n",
      "a liver the strike and the court is a wrong,\n",
      "but the king of here, and shall not be the son.\n",
      "\n",
      "duke of york:\n",
      "how is your contraded to\n",
      "-----------------------------0.6-------------------------------\n",
      "wife and my poor children!\n",
      "i pray thee, the edward stands to her none?\n",
      "\n",
      "northumberland:\n",
      "and they say the rest in the nothing the way\n",
      "to thus live her eyes; then death, which the seate,\n",
      "and singe that the sovereign service,\n",
      "stain stands, it is a thousand in the children's honour:\n",
      "they deed they word of my liberies the brother.\n",
      "show that he\n",
      "-----------------------------0.8-------------------------------\n",
      "ard:\n",
      "o, would he did! and so perhaps he cause a\n",
      "for eldeal of way this scoubly to he cannot hear our best\n",
      "that they please you soo, here the arm.\n",
      "you thear wake friend discortest fippy do,\n",
      "to hold and love to his choebors.\n",
      "with thy edward with the lard, best makest thou dare,\n",
      "i am not he ne'er adverner this withours with your sate!\n",
      "\n",
      "leont\n",
      "------------------------------1--------------------------------\n",
      "\n",
      "bite my thumb, sir.\n",
      "\n",
      "gregory:\n",
      "do you qurettest lust gently exetuinal lad!\n",
      "\n",
      "richard:\n",
      "you had the earth of soul, hear them, pray.\n",
      "\n",
      "near your capuse fortus:\n",
      "i'lie now thee not suems a venve's his dew\n",
      "but almague and belory to musicy pugble.\n",
      "some terting it it and sovereign speak,\n",
      "your dare ugament, kist fair voice of her;\n",
      "but some so, to st\n"
     ]
    }
   ],
   "source": [
    "print('-----------------------------0.2-------------------------------')\n",
    "print(generate_text(300, 0.2))\n",
    "print('-----------------------------0.4-------------------------------')\n",
    "print(generate_text(300, 0.4))\n",
    "print('-----------------------------0.6-------------------------------')\n",
    "print(generate_text(300, 0.6))\n",
    "print('-----------------------------0.8-------------------------------')\n",
    "print(generate_text(300, 0.8))\n",
    "print('------------------------------1--------------------------------')\n",
    "print(generate_text(300, 1))"
   ]
  }
 ],
 "metadata": {
  "kernelspec": {
   "display_name": "Python 3.9.16",
   "language": "python",
   "name": "python3"
  },
  "language_info": {
   "codemirror_mode": {
    "name": "ipython",
    "version": 3
   },
   "file_extension": ".py",
   "mimetype": "text/x-python",
   "name": "python",
   "nbconvert_exporter": "python",
   "pygments_lexer": "ipython3",
   "version": "3.9.16"
  },
  "orig_nbformat": 4,
  "vscode": {
   "interpreter": {
    "hash": "0b021351d9dd0e3394eb4e5cf29f14f11ef0f3872d778219a21ef40ecdad7b36"
   }
  }
 },
 "nbformat": 4,
 "nbformat_minor": 2
}
